{
 "cells": [
  {
   "cell_type": "markdown",
   "metadata": {},
   "source": [
    "# Imports"
   ]
  },
  {
   "cell_type": "code",
   "execution_count": 111,
   "metadata": {},
   "outputs": [],
   "source": [
    "import re\n",
    "\n",
    "from time import time\n",
    "\n",
    "import numpy as np\n",
    "import pandas as pd\n",
    "import matplotlib.pyplot as plt\n",
    "\n",
    "from sklearn import metrics\n",
    "from sklearn.feature_extraction.text import CountVectorizer\n",
    "from sklearn.model_selection import train_test_split\n",
    "\n",
    "from keras.preprocessing.text import Tokenizer\n",
    "from keras.preprocessing.sequence import pad_sequences\n",
    "from keras.models import Sequential\n",
    "from keras.layers import Dense, Embedding, LSTM, SpatialDropout1D\n",
    "from keras.utils.np_utils import to_categorical"
   ]
  },
  {
   "cell_type": "code",
   "execution_count": 112,
   "metadata": {},
   "outputs": [],
   "source": [
    "data = pd.read_csv('data/Balanced_Data.csv',\n",
    "                  index_col = False)"
   ]
  },
  {
   "cell_type": "code",
   "execution_count": 113,
   "metadata": {},
   "outputs": [
    {
     "data": {
      "text/html": [
       "<div>\n",
       "<style scoped>\n",
       "    .dataframe tbody tr th:only-of-type {\n",
       "        vertical-align: middle;\n",
       "    }\n",
       "\n",
       "    .dataframe tbody tr th {\n",
       "        vertical-align: top;\n",
       "    }\n",
       "\n",
       "    .dataframe thead th {\n",
       "        text-align: right;\n",
       "    }\n",
       "</style>\n",
       "<table border=\"1\" class=\"dataframe\">\n",
       "  <thead>\n",
       "    <tr style=\"text-align: right;\">\n",
       "      <th></th>\n",
       "      <th>text</th>\n",
       "      <th>sentiment</th>\n",
       "    </tr>\n",
       "  </thead>\n",
       "  <tbody>\n",
       "    <tr>\n",
       "      <th>0</th>\n",
       "      <td>Tsunami warnings canceled after magnitude 7 9 ...</td>\n",
       "      <td>0</td>\n",
       "    </tr>\n",
       "    <tr>\n",
       "      <th>1</th>\n",
       "      <td>How were roads in Alaska repaired so quickly a...</td>\n",
       "      <td>1</td>\n",
       "    </tr>\n",
       "    <tr>\n",
       "      <th>2</th>\n",
       "      <td>Our team is out and about in Anchorage Alaska ...</td>\n",
       "      <td>1</td>\n",
       "    </tr>\n",
       "    <tr>\n",
       "      <th>3</th>\n",
       "      <td>My most memorable moment this year was HappyNe...</td>\n",
       "      <td>1</td>\n",
       "    </tr>\n",
       "    <tr>\n",
       "      <th>4</th>\n",
       "      <td>We have good news Alaskans living in the areas...</td>\n",
       "      <td>1</td>\n",
       "    </tr>\n",
       "  </tbody>\n",
       "</table>\n",
       "</div>"
      ],
      "text/plain": [
       "                                                text  sentiment\n",
       "0  Tsunami warnings canceled after magnitude 7 9 ...          0\n",
       "1  How were roads in Alaska repaired so quickly a...          1\n",
       "2  Our team is out and about in Anchorage Alaska ...          1\n",
       "3  My most memorable moment this year was HappyNe...          1\n",
       "4  We have good news Alaskans living in the areas...          1"
      ]
     },
     "execution_count": 113,
     "metadata": {},
     "output_type": "execute_result"
    }
   ],
   "source": [
    "data.head()"
   ]
  },
  {
   "cell_type": "markdown",
   "metadata": {},
   "source": [
    "# Cleaning"
   ]
  },
  {
   "cell_type": "code",
   "execution_count": 114,
   "metadata": {},
   "outputs": [],
   "source": [
    "data['text'] = data['text'].apply(lambda x: x.lower())"
   ]
  },
  {
   "cell_type": "code",
   "execution_count": 115,
   "metadata": {},
   "outputs": [],
   "source": [
    "def clean_tweet(tweet): \n",
    "    return ' '.join(re.sub(\"(@[A-Za-z0-9]+)|([^0-9A-Za-z \\t])|(\\w+:\\/\\/\\S+)\", \" \", tweet).split())"
   ]
  },
  {
   "cell_type": "code",
   "execution_count": 116,
   "metadata": {},
   "outputs": [],
   "source": [
    "data['text'] = [clean_tweet(text) for text in data['text']]"
   ]
  },
  {
   "cell_type": "code",
   "execution_count": 117,
   "metadata": {},
   "outputs": [],
   "source": [
    "data['text'] = data['text'].apply(lambda x: re.sub(r'pic twitter com [A-Za-z0-9./]+','', x))"
   ]
  },
  {
   "cell_type": "code",
   "execution_count": 118,
   "metadata": {},
   "outputs": [
    {
     "data": {
      "text/html": [
       "<div>\n",
       "<style scoped>\n",
       "    .dataframe tbody tr th:only-of-type {\n",
       "        vertical-align: middle;\n",
       "    }\n",
       "\n",
       "    .dataframe tbody tr th {\n",
       "        vertical-align: top;\n",
       "    }\n",
       "\n",
       "    .dataframe thead th {\n",
       "        text-align: right;\n",
       "    }\n",
       "</style>\n",
       "<table border=\"1\" class=\"dataframe\">\n",
       "  <thead>\n",
       "    <tr style=\"text-align: right;\">\n",
       "      <th></th>\n",
       "      <th>text</th>\n",
       "      <th>sentiment</th>\n",
       "    </tr>\n",
       "  </thead>\n",
       "  <tbody>\n",
       "    <tr>\n",
       "      <th>0</th>\n",
       "      <td>tsunami warnings canceled after magnitude 7 9 ...</td>\n",
       "      <td>0</td>\n",
       "    </tr>\n",
       "    <tr>\n",
       "      <th>1</th>\n",
       "      <td>how were roads in alaska repaired so quickly a...</td>\n",
       "      <td>1</td>\n",
       "    </tr>\n",
       "    <tr>\n",
       "      <th>2</th>\n",
       "      <td>our team is out and about in anchorage alaska ...</td>\n",
       "      <td>1</td>\n",
       "    </tr>\n",
       "    <tr>\n",
       "      <th>3</th>\n",
       "      <td>my most memorable moment this year was happyne...</td>\n",
       "      <td>1</td>\n",
       "    </tr>\n",
       "    <tr>\n",
       "      <th>4</th>\n",
       "      <td>we have good news alaskans living in the areas...</td>\n",
       "      <td>1</td>\n",
       "    </tr>\n",
       "  </tbody>\n",
       "</table>\n",
       "</div>"
      ],
      "text/plain": [
       "                                                text  sentiment\n",
       "0  tsunami warnings canceled after magnitude 7 9 ...          0\n",
       "1  how were roads in alaska repaired so quickly a...          1\n",
       "2  our team is out and about in anchorage alaska ...          1\n",
       "3  my most memorable moment this year was happyne...          1\n",
       "4  we have good news alaskans living in the areas...          1"
      ]
     },
     "execution_count": 118,
     "metadata": {},
     "output_type": "execute_result"
    }
   ],
   "source": [
    "data.head()"
   ]
  },
  {
   "cell_type": "code",
   "execution_count": 119,
   "metadata": {},
   "outputs": [],
   "source": [
    "text_length = [len(text) for text in data.text]"
   ]
  },
  {
   "cell_type": "code",
   "execution_count": 120,
   "metadata": {},
   "outputs": [
    {
     "data": {
      "text/plain": [
       "{'whiskers': [<matplotlib.lines.Line2D at 0x7f12ec646b70>,\n",
       "  <matplotlib.lines.Line2D at 0x7f12ec63b048>],\n",
       " 'caps': [<matplotlib.lines.Line2D at 0x7f12ec63b470>,\n",
       "  <matplotlib.lines.Line2D at 0x7f12ec63b898>],\n",
       " 'boxes': [<matplotlib.lines.Line2D at 0x7f12ec646a20>],\n",
       " 'medians': [<matplotlib.lines.Line2D at 0x7f12ec63bcc0>],\n",
       " 'fliers': [<matplotlib.lines.Line2D at 0x7f12e578a128>],\n",
       " 'means': []}"
      ]
     },
     "execution_count": 120,
     "metadata": {},
     "output_type": "execute_result"
    },
    {
     "data": {
      "image/png": "[encoded data removed]",
      "text/plain": [
       "<Figure size 432x288 with 1 Axes>"
      ]
     },
     "metadata": {
      "needs_background": "light"
     },
     "output_type": "display_data"
    }
   ],
   "source": [
    "plt.boxplot(text_length)"
   ]
  },
  {
   "cell_type": "markdown",
   "metadata": {},
   "source": [
    "# Tokenize/Features"
   ]
  },
  {
   "cell_type": "code",
   "execution_count": 121,
   "metadata": {},
   "outputs": [],
   "source": [
    "max_features = 2000"
   ]
  },
  {
   "cell_type": "code",
   "execution_count": 122,
   "metadata": {},
   "outputs": [],
   "source": [
    "tokenizer = Tokenizer(num_words=max_features, split=' ')"
   ]
  },
  {
   "cell_type": "code",
   "execution_count": 123,
   "metadata": {},
   "outputs": [],
   "source": [
    "tokenizer.fit_on_texts(data['text'].values)"
   ]
  },
  {
   "cell_type": "code",
   "execution_count": 124,
   "metadata": {},
   "outputs": [],
   "source": [
    "X = tokenizer.texts_to_sequences(data['text'].values)"
   ]
  },
  {
   "cell_type": "code",
   "execution_count": 125,
   "metadata": {},
   "outputs": [],
   "source": [
    "X = pad_sequences(X)"
   ]
  },
  {
   "cell_type": "markdown",
   "metadata": {},
   "source": [
    "# Model"
   ]
  },
  {
   "cell_type": "code",
   "execution_count": 126,
   "metadata": {},
   "outputs": [],
   "source": [
    "embed_dim = 128\n",
    "lstm_out = 196"
   ]
  },
  {
   "cell_type": "code",
   "execution_count": 127,
   "metadata": {},
   "outputs": [
    {
     "name": "stdout",
     "output_type": "stream",
     "text": [
      "_________________________________________________________________\n",
      "Layer (type)                 Output Shape              Param #   \n",
      "=================================================================\n",
      "embedding_3 (Embedding)      (None, 55, 128)           256000    \n",
      "_________________________________________________________________\n",
      "spatial_dropout1d_3 (Spatial (None, 55, 128)           0         \n",
      "_________________________________________________________________\n",
      "lstm_3 (LSTM)                (None, 196)               254800    \n",
      "_________________________________________________________________\n",
      "dense_3 (Dense)              (None, 3)                 591       \n",
      "=================================================================\n",
      "Total params: 511,391\n",
      "Trainable params: 511,391\n",
      "Non-trainable params: 0\n",
      "_________________________________________________________________\n",
      "None\n"
     ]
    }
   ],
   "source": [
    "model = Sequential()\n",
    "model.add(Embedding(max_features, embed_dim, input_length = X.shape[1]))\n",
    "model.add(SpatialDropout1D(0.4))\n",
    "model.add(LSTM(lstm_out, dropout=0.2, recurrent_dropout=0.2))\n",
    "model.add(Dense(3, activation='softmax'))\n",
    "model.compile(loss = 'categorical_crossentropy', optimizer='adam', metrics=['accuracy'])\n",
    "print(model.summary())"
   ]
  },
  {
   "cell_type": "markdown",
   "metadata": {},
   "source": [
    "# Train-Test"
   ]
  },
  {
   "cell_type": "code",
   "execution_count": 128,
   "metadata": {},
   "outputs": [],
   "source": [
    "y = pd.get_dummies(data['sentiment']).values"
   ]
  },
  {
   "cell_type": "code",
   "execution_count": 129,
   "metadata": {},
   "outputs": [
    {
     "data": {
      "text/plain": [
       "(2204, 3)"
      ]
     },
     "execution_count": 129,
     "metadata": {},
     "output_type": "execute_result"
    }
   ],
   "source": [
    "y.shape"
   ]
  },
  {
   "cell_type": "code",
   "execution_count": 130,
   "metadata": {},
   "outputs": [],
   "source": [
    "X_train, X_test, y_train, y_test = train_test_split(X, y, test_size=0.2, random_state = 2019)"
   ]
  },
  {
   "cell_type": "code",
   "execution_count": 131,
   "metadata": {},
   "outputs": [
    {
     "name": "stdout",
     "output_type": "stream",
     "text": [
      "X_train's shape is (1763, 55)\n",
      "y_train's shape is (1763, 3)\n",
      "X_test's shape is (441, 55)\n",
      "y_test's shape is (441, 3)\n"
     ]
    }
   ],
   "source": [
    "print(\"X_train's shape is {}\".format(X_train.shape))\n",
    "print(\"y_train's shape is {}\".format(y_train.shape))\n",
    "print(\"X_test's shape is {}\".format(X_test.shape))\n",
    "print(\"y_test's shape is {}\".format(y_test.shape))"
   ]
  },
  {
   "cell_type": "markdown",
   "metadata": {},
   "source": [
    "# Train Model"
   ]
  },
  {
   "cell_type": "code",
   "execution_count": 132,
   "metadata": {},
   "outputs": [],
   "source": [
    "batch_size=32"
   ]
  },
  {
   "cell_type": "code",
   "execution_count": 133,
   "metadata": {},
   "outputs": [
    {
     "name": "stdout",
     "output_type": "stream",
     "text": [
      "Epoch 1/5\n",
      "1763/1763 [==============================] - 48s 27ms/step - loss: 1.0154 - acc: 0.4997\n",
      "Epoch 2/5\n",
      "1763/1763 [==============================] - 46s 26ms/step - loss: 0.5420 - acc: 0.7935\n",
      "Epoch 3/5\n",
      "1763/1763 [==============================] - 46s 26ms/step - loss: 0.2483 - acc: 0.9149\n",
      "Epoch 4/5\n",
      "1763/1763 [==============================] - 46s 26ms/step - loss: 0.1330 - acc: 0.9586\n",
      "Epoch 5/5\n",
      "1763/1763 [==============================] - 46s 26ms/step - loss: 0.0773 - acc: 0.9807\n"
     ]
    },
    {
     "data": {
      "text/plain": [
       "<keras.callbacks.History at 0x7f12ef6e3d68>"
      ]
     },
     "execution_count": 133,
     "metadata": {},
     "output_type": "execute_result"
    }
   ],
   "source": [
    "model.fit(X_train, y_train, epochs=5, batch_size=batch_size, verbose=1)"
   ]
  },
  {
   "cell_type": "code",
   "execution_count": 136,
   "metadata": {},
   "outputs": [
    {
     "name": "stdout",
     "output_type": "stream",
     "text": [
      "441/441 [==============================] - 3s 6ms/step\n",
      "Score is 0.16730491066871045\n",
      "Accuracy is 0.9455782300760956\n"
     ]
    }
   ],
   "source": [
    "score,acc = model.evaluate(X_test, y_test, batch_size = batch_size)\n",
    "print(\"Score is {}\".format(score))\n",
    "print(\"Accuracy is {}\".format(acc))"
   ]
  },
  {
   "cell_type": "markdown",
   "metadata": {},
   "source": [
    "# Predictions"
   ]
  },
  {
   "cell_type": "code",
   "execution_count": 142,
   "metadata": {},
   "outputs": [
    {
     "name": "stdout",
     "output_type": "stream",
     "text": [
      "AE_test.csv  Balanced_Data.csv\r\n"
     ]
    }
   ],
   "source": [
    "!ls 'data'"
   ]
  },
  {
   "cell_type": "code",
   "execution_count": 145,
   "metadata": {},
   "outputs": [],
   "source": [
    "pred = pd.read_csv('data/AE_test.csv',\n",
    "                  index_col = False)"
   ]
  },
  {
   "cell_type": "code",
   "execution_count": 146,
   "metadata": {
    "collapsed": true
   },
   "outputs": [
    {
     "data": {
      "text/html": [
       "<div>\n",
       "<style scoped>\n",
       "    .dataframe tbody tr th:only-of-type {\n",
       "        vertical-align: middle;\n",
       "    }\n",
       "\n",
       "    .dataframe tbody tr th {\n",
       "        vertical-align: top;\n",
       "    }\n",
       "\n",
       "    .dataframe thead th {\n",
       "        text-align: right;\n",
       "    }\n",
       "</style>\n",
       "<table border=\"1\" class=\"dataframe\">\n",
       "  <thead>\n",
       "    <tr style=\"text-align: right;\">\n",
       "      <th></th>\n",
       "      <th>text</th>\n",
       "      <th>sentiment</th>\n",
       "    </tr>\n",
       "  </thead>\n",
       "  <tbody>\n",
       "    <tr>\n",
       "      <th>0</th>\n",
       "      <td>OTD in 2002 M7 9 earthquake struck central Ala...</td>\n",
       "      <td>NaN</td>\n",
       "    </tr>\n",
       "    <tr>\n",
       "      <th>1</th>\n",
       "      <td>1 6 magnitude earthquake 71km W of Cantwell Al...</td>\n",
       "      <td>NaN</td>\n",
       "    </tr>\n",
       "    <tr>\n",
       "      <th>2</th>\n",
       "      <td>1 7 magnitude earthquake 80km S of Tok Alaska</td>\n",
       "      <td>NaN</td>\n",
       "    </tr>\n",
       "    <tr>\n",
       "      <th>3</th>\n",
       "      <td>1 7 magnitude earthquake 62km SSW of Cantwell ...</td>\n",
       "      <td>NaN</td>\n",
       "    </tr>\n",
       "    <tr>\n",
       "      <th>4</th>\n",
       "      <td>When an earthquake strikes the locals must pic...</td>\n",
       "      <td>NaN</td>\n",
       "    </tr>\n",
       "    <tr>\n",
       "      <th>5</th>\n",
       "      <td>I m presently in SE Alaska the relatively libe...</td>\n",
       "      <td>NaN</td>\n",
       "    </tr>\n",
       "    <tr>\n",
       "      <th>6</th>\n",
       "      <td>The earthquake capitals in the U S used to be ...</td>\n",
       "      <td>NaN</td>\n",
       "    </tr>\n",
       "    <tr>\n",
       "      <th>7</th>\n",
       "      <td>5 0 earthquake 71km SE of Atka Alaska 2016 10 ...</td>\n",
       "      <td>NaN</td>\n",
       "    </tr>\n",
       "    <tr>\n",
       "      <th>8</th>\n",
       "      <td>There was an earthquake in 150km S of False Pa...</td>\n",
       "      <td>NaN</td>\n",
       "    </tr>\n",
       "    <tr>\n",
       "      <th>9</th>\n",
       "      <td>Prelim M5 8 earthquake Unimak Island region Al...</td>\n",
       "      <td>NaN</td>\n",
       "    </tr>\n",
       "    <tr>\n",
       "      <th>10</th>\n",
       "      <td>UAF Alaska Earthquake Center s initial estimat...</td>\n",
       "      <td>NaN</td>\n",
       "    </tr>\n",
       "    <tr>\n",
       "      <th>11</th>\n",
       "      <td>Earthquake in Alaska did you feel that We ll l...</td>\n",
       "      <td>NaN</td>\n",
       "    </tr>\n",
       "    <tr>\n",
       "      <th>12</th>\n",
       "      <td>Alaska was hit by 5 2 magnitude earthquake pic...</td>\n",
       "      <td>NaN</td>\n",
       "    </tr>\n",
       "    <tr>\n",
       "      <th>13</th>\n",
       "      <td>The US State of Alaska is rocked by a 5 2 magn...</td>\n",
       "      <td>NaN</td>\n",
       "    </tr>\n",
       "    <tr>\n",
       "      <th>14</th>\n",
       "      <td>Tracking and digging the 1958 M7 7 earthquake ...</td>\n",
       "      <td>NaN</td>\n",
       "    </tr>\n",
       "    <tr>\n",
       "      <th>15</th>\n",
       "      <td>Just got woken up by an earthquake In Oklahoma...</td>\n",
       "      <td>NaN</td>\n",
       "    </tr>\n",
       "    <tr>\n",
       "      <th>16</th>\n",
       "      <td>Prelim M5 5 earthquake Rat Islands Aleutian Is...</td>\n",
       "      <td>NaN</td>\n",
       "    </tr>\n",
       "    <tr>\n",
       "      <th>17</th>\n",
       "      <td>August 3 2016 15 04 33 UTC a M4 12 earthquake ...</td>\n",
       "      <td>NaN</td>\n",
       "    </tr>\n",
       "    <tr>\n",
       "      <th>18</th>\n",
       "      <td>5 3 Magnitude earthquake 13 5 miles deep 7 26 ...</td>\n",
       "      <td>NaN</td>\n",
       "    </tr>\n",
       "    <tr>\n",
       "      <th>19</th>\n",
       "      <td>Prelim M5 7 earthquake Alaska Peninsula Jul 23...</td>\n",
       "      <td>NaN</td>\n",
       "    </tr>\n",
       "    <tr>\n",
       "      <th>20</th>\n",
       "      <td>Dreamt we had an earthquake with aftershocks i...</td>\n",
       "      <td>NaN</td>\n",
       "    </tr>\n",
       "    <tr>\n",
       "      <th>21</th>\n",
       "      <td>Alaska girl forever moment the couch started s...</td>\n",
       "      <td>NaN</td>\n",
       "    </tr>\n",
       "    <tr>\n",
       "      <th>22</th>\n",
       "      <td>9 percent chance of magnitude 9 earthquake hit...</td>\n",
       "      <td>NaN</td>\n",
       "    </tr>\n",
       "    <tr>\n",
       "      <th>23</th>\n",
       "      <td>5 4 earthquake 74km SE of Nikolski Alaska 2016...</td>\n",
       "      <td>NaN</td>\n",
       "    </tr>\n",
       "    <tr>\n",
       "      <th>24</th>\n",
       "      <td>Update M5 4 earthquake sismo strikes 131 km SW...</td>\n",
       "      <td>NaN</td>\n",
       "    </tr>\n",
       "    <tr>\n",
       "      <th>25</th>\n",
       "      <td>120km deep M5 3 earthquake near Denali Pk Alas...</td>\n",
       "      <td>NaN</td>\n",
       "    </tr>\n",
       "    <tr>\n",
       "      <th>26</th>\n",
       "      <td>Prelim M5 5 earthquake Central Alaska May 15 0...</td>\n",
       "      <td>NaN</td>\n",
       "    </tr>\n",
       "    <tr>\n",
       "      <th>27</th>\n",
       "      <td>Preliminary magnitude 5 4 earthquake recorded ...</td>\n",
       "      <td>NaN</td>\n",
       "    </tr>\n",
       "    <tr>\n",
       "      <th>28</th>\n",
       "      <td>MT NTWC M5 1 earthquake 060Mi NW Talkeetna Ala...</td>\n",
       "      <td>NaN</td>\n",
       "    </tr>\n",
       "    <tr>\n",
       "      <th>29</th>\n",
       "      <td>5 1 earthquake 92km NNW of Talkeetna Alaska 20...</td>\n",
       "      <td>NaN</td>\n",
       "    </tr>\n",
       "    <tr>\n",
       "      <th>...</th>\n",
       "      <td>...</td>\n",
       "      <td>...</td>\n",
       "    </tr>\n",
       "    <tr>\n",
       "      <th>281</th>\n",
       "      <td>5 6 earthquake 113km SE of Atka Alaska 2015 11...</td>\n",
       "      <td>NaN</td>\n",
       "    </tr>\n",
       "    <tr>\n",
       "      <th>282</th>\n",
       "      <td>A 5 6 magnitude earthquake occurred 70 21mi SE...</td>\n",
       "      <td>NaN</td>\n",
       "    </tr>\n",
       "    <tr>\n",
       "      <th>283</th>\n",
       "      <td>5 5 earthquake 61km E of Atka Alaska 2015 11 0...</td>\n",
       "      <td>NaN</td>\n",
       "    </tr>\n",
       "    <tr>\n",
       "      <th>284</th>\n",
       "      <td>Earthquake rattles southcentral Alaska</td>\n",
       "      <td>NaN</td>\n",
       "    </tr>\n",
       "    <tr>\n",
       "      <th>285</th>\n",
       "      <td>Earthquake Good morning Alaska pic twitter com...</td>\n",
       "      <td>NaN</td>\n",
       "    </tr>\n",
       "    <tr>\n",
       "      <th>286</th>\n",
       "      <td>Just had an earthquake here in Anchorage Nice ...</td>\n",
       "      <td>NaN</td>\n",
       "    </tr>\n",
       "    <tr>\n",
       "      <th>287</th>\n",
       "      <td>You know you live in Alaska when an earthquake...</td>\n",
       "      <td>NaN</td>\n",
       "    </tr>\n",
       "    <tr>\n",
       "      <th>288</th>\n",
       "      <td>5 0 earthquake 84km SSW of Nikolski Alaska 201...</td>\n",
       "      <td>NaN</td>\n",
       "    </tr>\n",
       "    <tr>\n",
       "      <th>289</th>\n",
       "      <td>4 3 magnitude earthquake hits central alaska n...</td>\n",
       "      <td>NaN</td>\n",
       "    </tr>\n",
       "    <tr>\n",
       "      <th>290</th>\n",
       "      <td>MYSTERY Seismic Station in Alaska Records Dist...</td>\n",
       "      <td>NaN</td>\n",
       "    </tr>\n",
       "    <tr>\n",
       "      <th>291</th>\n",
       "      <td>BREAKING Magnitude 5 6 earthquake strikes Alas...</td>\n",
       "      <td>NaN</td>\n",
       "    </tr>\n",
       "    <tr>\n",
       "      <th>292</th>\n",
       "      <td>Great Alaska earthquake measured magnitude 9 2...</td>\n",
       "      <td>NaN</td>\n",
       "    </tr>\n",
       "    <tr>\n",
       "      <th>293</th>\n",
       "      <td>Hit by an earthquake for the past 5 hours Phil...</td>\n",
       "      <td>NaN</td>\n",
       "    </tr>\n",
       "    <tr>\n",
       "      <th>294</th>\n",
       "      <td>next time I feel an earthquake im moving to al...</td>\n",
       "      <td>NaN</td>\n",
       "    </tr>\n",
       "    <tr>\n",
       "      <th>295</th>\n",
       "      <td>5 7 Earthquake Strikes Amatignak Island Area i...</td>\n",
       "      <td>NaN</td>\n",
       "    </tr>\n",
       "    <tr>\n",
       "      <th>296</th>\n",
       "      <td>BREAKING 5 7 Earthquake Strikes Amatignak Isla...</td>\n",
       "      <td>NaN</td>\n",
       "    </tr>\n",
       "    <tr>\n",
       "      <th>297</th>\n",
       "      <td>Earth Changes Earthquake Amatignak Island Alas...</td>\n",
       "      <td>NaN</td>\n",
       "    </tr>\n",
       "    <tr>\n",
       "      <th>298</th>\n",
       "      <td>USGS M 5 7 72km N of Amatignak Island Alaska e...</td>\n",
       "      <td>NaN</td>\n",
       "    </tr>\n",
       "    <tr>\n",
       "      <th>299</th>\n",
       "      <td>2 1 magnitude earthquake 36km NNW of Healy Alaska</td>\n",
       "      <td>NaN</td>\n",
       "    </tr>\n",
       "    <tr>\n",
       "      <th>300</th>\n",
       "      <td>Earthquake M 5 7 72km N of Amatignak Island Al...</td>\n",
       "      <td>NaN</td>\n",
       "    </tr>\n",
       "    <tr>\n",
       "      <th>301</th>\n",
       "      <td>5 7 earthquake occurred at 5 Oct 2015 17 35 55...</td>\n",
       "      <td>NaN</td>\n",
       "    </tr>\n",
       "    <tr>\n",
       "      <th>302</th>\n",
       "      <td>5 2 magnitude earthquake 40km NNW of Amatignak...</td>\n",
       "      <td>NaN</td>\n",
       "    </tr>\n",
       "    <tr>\n",
       "      <th>303</th>\n",
       "      <td>5 2 earthquake 40km NNW of Amatignak Island Al...</td>\n",
       "      <td>NaN</td>\n",
       "    </tr>\n",
       "    <tr>\n",
       "      <th>304</th>\n",
       "      <td>3 0 earthquake occurred at 5 Oct 2015 14 00 45...</td>\n",
       "      <td>NaN</td>\n",
       "    </tr>\n",
       "    <tr>\n",
       "      <th>305</th>\n",
       "      <td>Magnitude 1 2 earthquake 8km NW of North Nenan...</td>\n",
       "      <td>NaN</td>\n",
       "    </tr>\n",
       "    <tr>\n",
       "      <th>306</th>\n",
       "      <td>Magnitude 1 2 earthquake 8km NW of North Nenan...</td>\n",
       "      <td>NaN</td>\n",
       "    </tr>\n",
       "    <tr>\n",
       "      <th>307</th>\n",
       "      <td>EarthScope Transportable Array will help scien...</td>\n",
       "      <td>NaN</td>\n",
       "    </tr>\n",
       "    <tr>\n",
       "      <th>308</th>\n",
       "      <td>NEW earthquake forecast for Alaska</td>\n",
       "      <td>NaN</td>\n",
       "    </tr>\n",
       "    <tr>\n",
       "      <th>309</th>\n",
       "      <td>Either Alaska just had an earthquake or my nex...</td>\n",
       "      <td>NaN</td>\n",
       "    </tr>\n",
       "    <tr>\n",
       "      <th>310</th>\n",
       "      <td>M4 5 CENTRAL ALASKA Preliminary Earthquake Rep...</td>\n",
       "      <td>NaN</td>\n",
       "    </tr>\n",
       "  </tbody>\n",
       "</table>\n",
       "<p>311 rows × 2 columns</p>\n",
       "</div>"
      ],
      "text/plain": [
       "                                                  text  sentiment\n",
       "0    OTD in 2002 M7 9 earthquake struck central Ala...        NaN\n",
       "1    1 6 magnitude earthquake 71km W of Cantwell Al...        NaN\n",
       "2        1 7 magnitude earthquake 80km S of Tok Alaska        NaN\n",
       "3    1 7 magnitude earthquake 62km SSW of Cantwell ...        NaN\n",
       "4    When an earthquake strikes the locals must pic...        NaN\n",
       "5    I m presently in SE Alaska the relatively libe...        NaN\n",
       "6    The earthquake capitals in the U S used to be ...        NaN\n",
       "7    5 0 earthquake 71km SE of Atka Alaska 2016 10 ...        NaN\n",
       "8    There was an earthquake in 150km S of False Pa...        NaN\n",
       "9    Prelim M5 8 earthquake Unimak Island region Al...        NaN\n",
       "10   UAF Alaska Earthquake Center s initial estimat...        NaN\n",
       "11   Earthquake in Alaska did you feel that We ll l...        NaN\n",
       "12   Alaska was hit by 5 2 magnitude earthquake pic...        NaN\n",
       "13   The US State of Alaska is rocked by a 5 2 magn...        NaN\n",
       "14   Tracking and digging the 1958 M7 7 earthquake ...        NaN\n",
       "15   Just got woken up by an earthquake In Oklahoma...        NaN\n",
       "16   Prelim M5 5 earthquake Rat Islands Aleutian Is...        NaN\n",
       "17   August 3 2016 15 04 33 UTC a M4 12 earthquake ...        NaN\n",
       "18   5 3 Magnitude earthquake 13 5 miles deep 7 26 ...        NaN\n",
       "19   Prelim M5 7 earthquake Alaska Peninsula Jul 23...        NaN\n",
       "20   Dreamt we had an earthquake with aftershocks i...        NaN\n",
       "21   Alaska girl forever moment the couch started s...        NaN\n",
       "22   9 percent chance of magnitude 9 earthquake hit...        NaN\n",
       "23   5 4 earthquake 74km SE of Nikolski Alaska 2016...        NaN\n",
       "24   Update M5 4 earthquake sismo strikes 131 km SW...        NaN\n",
       "25   120km deep M5 3 earthquake near Denali Pk Alas...        NaN\n",
       "26   Prelim M5 5 earthquake Central Alaska May 15 0...        NaN\n",
       "27   Preliminary magnitude 5 4 earthquake recorded ...        NaN\n",
       "28   MT NTWC M5 1 earthquake 060Mi NW Talkeetna Ala...        NaN\n",
       "29   5 1 earthquake 92km NNW of Talkeetna Alaska 20...        NaN\n",
       "..                                                 ...        ...\n",
       "281  5 6 earthquake 113km SE of Atka Alaska 2015 11...        NaN\n",
       "282  A 5 6 magnitude earthquake occurred 70 21mi SE...        NaN\n",
       "283  5 5 earthquake 61km E of Atka Alaska 2015 11 0...        NaN\n",
       "284             Earthquake rattles southcentral Alaska        NaN\n",
       "285  Earthquake Good morning Alaska pic twitter com...        NaN\n",
       "286  Just had an earthquake here in Anchorage Nice ...        NaN\n",
       "287  You know you live in Alaska when an earthquake...        NaN\n",
       "288  5 0 earthquake 84km SSW of Nikolski Alaska 201...        NaN\n",
       "289  4 3 magnitude earthquake hits central alaska n...        NaN\n",
       "290  MYSTERY Seismic Station in Alaska Records Dist...        NaN\n",
       "291  BREAKING Magnitude 5 6 earthquake strikes Alas...        NaN\n",
       "292  Great Alaska earthquake measured magnitude 9 2...        NaN\n",
       "293  Hit by an earthquake for the past 5 hours Phil...        NaN\n",
       "294  next time I feel an earthquake im moving to al...        NaN\n",
       "295  5 7 Earthquake Strikes Amatignak Island Area i...        NaN\n",
       "296  BREAKING 5 7 Earthquake Strikes Amatignak Isla...        NaN\n",
       "297  Earth Changes Earthquake Amatignak Island Alas...        NaN\n",
       "298  USGS M 5 7 72km N of Amatignak Island Alaska e...        NaN\n",
       "299  2 1 magnitude earthquake 36km NNW of Healy Alaska        NaN\n",
       "300  Earthquake M 5 7 72km N of Amatignak Island Al...        NaN\n",
       "301  5 7 earthquake occurred at 5 Oct 2015 17 35 55...        NaN\n",
       "302  5 2 magnitude earthquake 40km NNW of Amatignak...        NaN\n",
       "303  5 2 earthquake 40km NNW of Amatignak Island Al...        NaN\n",
       "304  3 0 earthquake occurred at 5 Oct 2015 14 00 45...        NaN\n",
       "305  Magnitude 1 2 earthquake 8km NW of North Nenan...        NaN\n",
       "306  Magnitude 1 2 earthquake 8km NW of North Nenan...        NaN\n",
       "307  EarthScope Transportable Array will help scien...        NaN\n",
       "308                 NEW earthquake forecast for Alaska        NaN\n",
       "309  Either Alaska just had an earthquake or my nex...        NaN\n",
       "310  M4 5 CENTRAL ALASKA Preliminary Earthquake Rep...        NaN\n",
       "\n",
       "[311 rows x 2 columns]"
      ]
     },
     "execution_count": 146,
     "metadata": {},
     "output_type": "execute_result"
    }
   ],
   "source": [
    "pred"
   ]
  },
  {
   "cell_type": "code",
   "execution_count": 147,
   "metadata": {},
   "outputs": [],
   "source": [
    "def clean(df):\n",
    "    df['text'] = data['text'].apply(lambda x: x.lower())\n",
    "    df['text'] = [clean_tweet(text) for text in df['text']]\n",
    "    df['text'] = df['text'].apply(lambda x: re.sub(r'pic twitter com [A-Za-z0-9./]+','', x))\n",
    "    return df"
   ]
  },
  {
   "cell_type": "code",
   "execution_count": 149,
   "metadata": {},
   "outputs": [],
   "source": [
    "pred = clean(pred)"
   ]
  },
  {
   "cell_type": "code",
   "execution_count": 152,
   "metadata": {},
   "outputs": [],
   "source": [
    "pred_tokens = tokenizer.texts_to_sequences(pred['text'].values)\n",
    "\n",
    "pred_tokens = pad_sequences(pred_tokens, maxlen=55, dtype='int32', value=0)"
   ]
  },
  {
   "cell_type": "code",
   "execution_count": 155,
   "metadata": {},
   "outputs": [],
   "source": [
    "pred_sentiment = model.predict(pred_tokens,batch_size=1,verbose = 2)[0]"
   ]
  },
  {
   "cell_type": "code",
   "execution_count": 156,
   "metadata": {},
   "outputs": [
    {
     "data": {
      "text/plain": [
       "array([1.725141e-03, 9.979091e-01, 3.657123e-04], dtype=float32)"
      ]
     },
     "execution_count": 156,
     "metadata": {},
     "output_type": "execute_result"
    }
   ],
   "source": [
    "pred_sentiment"
   ]
  },
  {
   "cell_type": "code",
   "execution_count": 162,
   "metadata": {},
   "outputs": [
    {
     "name": "stdout",
     "output_type": "stream",
     "text": [
      "neutral\n"
     ]
    }
   ],
   "source": [
    "if (np.argmax(pred_sentiment) == 0):\n",
    "    print(\"negative\")\n",
    "elif (np.argmax(pred_sentiment) == 1):\n",
    "    print(\"neutral\")\n",
    "elif (np.argmax(pred_sentiment) == 2):\n",
    "    print(\"positive\")"
   ]
  },
  {
   "cell_type": "code",
   "execution_count": null,
   "metadata": {},
   "outputs": [],
   "source": []
  }
 ],
 "metadata": {
  "kernelspec": {
   "display_name": "Python 3",
   "language": "python",
   "name": "python3"
  },
  "language_info": {
   "codemirror_mode": {
    "name": "ipython",
    "version": 3
   },
   "file_extension": ".py",
   "mimetype": "text/x-python",
   "name": "python",
   "nbconvert_exporter": "python",
   "pygments_lexer": "ipython3",
   "version": "3.6.5"
  }
 },
 "nbformat": 4,
 "nbformat_minor": 2
}
